{
 "cells": [
  {
   "cell_type": "code",
   "execution_count": null,
   "id": "e806bcaf",
   "metadata": {},
   "outputs": [],
   "source": [
    "from sklearn.linear_model import LinearRegression\n",
    "X = [[1],[2],[3],[4],[5]]\n",
    "y = [30,40,50,65,70]\n",
    "\n",
    "f_lr = LinearRegression()\n",
    "\n",
    "f_lr.fit(X,y)\n",
    "\n",
    "hours = int(input(\"Enter your study hours: \"))\n",
    "f_lr_prediction = f_lr.predict([[hours]])\n",
    "print(f_lr_prediction)"
   ]
  },
  {
   "cell_type": "code",
   "execution_count": null,
   "id": "a4a08cc6",
   "metadata": {},
   "outputs": [],
   "source": []
  }
 ],
 "metadata": {
  "kernelspec": {
   "display_name": "Python 3",
   "language": "python",
   "name": "python3"
  },
  "language_info": {
   "codemirror_mode": {
    "name": "ipython",
    "version": 3
   },
   "file_extension": ".py",
   "mimetype": "text/x-python",
   "name": "python",
   "nbconvert_exporter": "python",
   "pygments_lexer": "ipython3",
   "version": "3.12.0"
  }
 },
 "nbformat": 4,
 "nbformat_minor": 5
}
