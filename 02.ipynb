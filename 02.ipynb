{
 "cells": [
  {
   "cell_type": "code",
   "id": "initial_id",
   "metadata": {
    "collapsed": true,
    "ExecuteTime": {
     "end_time": "2025-08-13T15:35:40.346027Z",
     "start_time": "2025-08-13T15:35:32.700184Z"
    }
   },
   "source": [
    "from sklearn.linear_model import LinearRegression\n",
    "import pandas as pd\n",
    "import numpy as np"
   ],
   "outputs": [],
   "execution_count": 1
  },
  {
   "metadata": {
    "ExecuteTime": {
     "end_time": "2025-08-13T15:41:06.147799Z",
     "start_time": "2025-08-13T15:40:58.127467Z"
    }
   },
   "cell_type": "code",
   "source": [
    "x = [[1],[2],[3],[4],[5]]\n",
    "y = [30,40,55,65,80]\n",
    "\n",
    "model = LinearRegression()\n",
    "model.fit(x,y)\n",
    "hours = int(input(\"Enter your study hours: \"))\n",
    "predict_value = model.predict([[hours]])\n",
    "print(f\"Study hour{hours} then marks is {predict_value}\")"
   ],
   "id": "68a61ff278e571f0",
   "outputs": [
    {
     "name": "stdout",
     "output_type": "stream",
     "text": [
      "Study hour10 then marks is [141.5]\n"
     ]
    }
   ],
   "execution_count": 3
  },
  {
   "metadata": {},
   "cell_type": "code",
   "outputs": [],
   "execution_count": null,
   "source": "",
   "id": "52cdc164b6b7c7d2"
  }
 ],
 "metadata": {
  "kernelspec": {
   "display_name": "Python 3",
   "language": "python",
   "name": "python3"
  },
  "language_info": {
   "codemirror_mode": {
    "name": "ipython",
    "version": 2
   },
   "file_extension": ".py",
   "mimetype": "text/x-python",
   "name": "python",
   "nbconvert_exporter": "python",
   "pygments_lexer": "ipython2",
   "version": "2.7.6"
  }
 },
 "nbformat": 4,
 "nbformat_minor": 5
}
