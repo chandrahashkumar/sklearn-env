{
 "cells": [
  {
   "cell_type": "code",
   "id": "initial_id",
   "metadata": {
    "collapsed": true,
    "ExecuteTime": {
     "end_time": "2025-08-13T15:35:40.346027Z",
     "start_time": "2025-08-13T15:35:32.700184Z"
    }
   },
   "source": [
    "from sklearn.linear_model import LinearRegression\n",
    "import pandas as pd\n",
    "import numpy as np"
   ],
   "outputs": [],
   "execution_count": 1
  },
  {
   "metadata": {
    "ExecuteTime": {
     "end_time": "2025-08-13T15:41:06.147799Z",
     "start_time": "2025-08-13T15:40:58.127467Z"
    }
   },
   "cell_type": "code",
   "source": [
    "x = [[1],[2],[3],[4],[5]]\n",
    "y = [30,40,55,65,80]\n",
    "\n",
    "model = LinearRegression()\n",
    "model.fit(x,y)\n",
    "hours = int(input(\"Enter your study hours: \"))\n",
    "predict_value = model.predict([[hours]])\n",
    "print(f\"Study hour{hours} then marks is {predict_value}\")"
   ],
   "id": "68a61ff278e571f0",
   "outputs": [
    {
     "name": "stdout",
     "output_type": "stream",
     "text": [
      "Study hour10 then marks is [141.5]\n"
     ]
    }
   ],
   "execution_count": 3
  },
  {
   "metadata": {
    "ExecuteTime": {
     "end_time": "2025-08-13T15:54:39.500206Z",
     "start_time": "2025-08-13T15:54:39.495474Z"
    }
   },
   "cell_type": "code",
   "source": "from sklearn.linear_model import LogisticRegression",
   "id": "6c0f8dd2e878d665",
   "outputs": [],
   "execution_count": 6
  },
  {
   "metadata": {
    "ExecuteTime": {
     "end_time": "2025-08-13T16:01:26.700366Z",
     "start_time": "2025-08-13T16:01:23.208157Z"
    }
   },
   "cell_type": "code",
   "source": [
    "x = [[3],[4],[5],[6],[7]]\n",
    "y = [0,0,1,1,1]\n",
    "\n",
    "model = LogisticRegression()\n",
    "model.fit(x,y)\n",
    "hours = float(input(\"Enter study hours: \"))\n",
    "\n",
    "predict_result = model.predict([[hours]])[0]\n",
    "if predict_result == 1:\n",
    "    print(f\"Based on hours {hours}, you are likely pass\")\n",
    "    print(f\"your are {predict_result}\")\n",
    "\n",
    "else:\n",
    "    print(f\"Based on hours {hours}\")\n",
    "    print(f\"your are {predict_result}\")"
   ],
   "id": "6bc8254384993af7",
   "outputs": [
    {
     "name": "stdout",
     "output_type": "stream",
     "text": [
      "Based on hours 2.0\n",
      "your are 0\n"
     ]
    }
   ],
   "execution_count": 8
  },
  {
   "metadata": {},
   "cell_type": "code",
   "outputs": [],
   "execution_count": null,
   "source": "",
   "id": "527ff55d5086b3be"
  }
 ],
 "metadata": {
  "kernelspec": {
   "display_name": "Python 3",
   "language": "python",
   "name": "python3"
  },
  "language_info": {
   "codemirror_mode": {
    "name": "ipython",
    "version": 2
   },
   "file_extension": ".py",
   "mimetype": "text/x-python",
   "name": "python",
   "nbconvert_exporter": "python",
   "pygments_lexer": "ipython2",
   "version": "2.7.6"
  }
 },
 "nbformat": 4,
 "nbformat_minor": 5
}
