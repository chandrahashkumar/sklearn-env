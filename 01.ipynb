{
 "cells": [
  {
   "cell_type": "code",
   "execution_count": 3,
   "id": "initial_id",
   "metadata": {
    "ExecuteTime": {
     "end_time": "2025-08-06T19:03:25.679836Z",
     "start_time": "2025-08-06T19:03:25.675953Z"
    }
   },
   "outputs": [
    {
     "ename": "ModuleNotFoundError",
     "evalue": "No module named 'sklearn'",
     "output_type": "error",
     "traceback": [
      "\u001b[1;31m---------------------------------------------------------------------------\u001b[0m",
      "\u001b[1;31mModuleNotFoundError\u001b[0m                       Traceback (most recent call last)",
      "Cell \u001b[1;32mIn[3], line 1\u001b[0m\n\u001b[1;32m----> 1\u001b[0m \u001b[38;5;28;01mfrom\u001b[39;00m \u001b[38;5;21;01msklearn\u001b[39;00m\u001b[38;5;21;01m.\u001b[39;00m\u001b[38;5;21;01mpreprocessing\u001b[39;00m \u001b[38;5;28;01mimport\u001b[39;00m LabelEncoder\n\u001b[0;32m      2\u001b[0m \u001b[38;5;28;01mimport\u001b[39;00m \u001b[38;5;21;01mpandas\u001b[39;00m \u001b[38;5;28;01mas\u001b[39;00m \u001b[38;5;21;01mpd\u001b[39;00m\n\u001b[0;32m      3\u001b[0m \u001b[38;5;28;01mimport\u001b[39;00m \u001b[38;5;21;01mnumpy\u001b[39;00m \u001b[38;5;28;01mas\u001b[39;00m \u001b[38;5;21;01mnp\u001b[39;00m\n",
      "\u001b[1;31mModuleNotFoundError\u001b[0m: No module named 'sklearn'"
     ]
    }
   ],
   "source": [
    "from sklearn.preprocessing import LabelEncoder\n",
    "import pandas as pd\n",
    "import numpy as np\n"
   ]
  },
  {
   "cell_type": "code",
   "execution_count": 3,
   "id": "59ea773d38282ad5",
   "metadata": {
    "ExecuteTime": {
     "end_time": "2025-08-06T19:22:57.085749Z",
     "start_time": "2025-08-06T19:22:57.075272Z"
    }
   },
   "outputs": [
    {
     "name": "stdout",
     "output_type": "stream",
     "text": [
      "<class 'pandas.core.frame.DataFrame'>\n",
      "RangeIndex: 5 entries, 0 to 4\n",
      "Data columns (total 3 columns):\n",
      " #   Column  Non-Null Count  Dtype  \n",
      "---  ------  --------------  -----  \n",
      " 0   Name    5 non-null      object \n",
      " 1   Age     2 non-null      float64\n",
      " 2   Salary  4 non-null      float64\n",
      "dtypes: float64(2), object(1)\n",
      "memory usage: 252.0+ bytes\n"
     ]
    }
   ],
   "source": [
    "data = {\"Name\":['Chandrahsh','Kal','Jone','Anna','Ng'],\n",
    "        \"Age\":[None,None,22,None,25],\n",
    "        \"Salary\":[150000,120000,None,130000,250000]}\n",
    "df = pd.DataFrame(data)\n",
    "# df.head()\n",
    "df.info()"
   ]
  },
  {
   "cell_type": "markdown",
   "id": "4c3d751b93e5ecc5",
   "metadata": {},
   "source": [
    "check missing data in present "
   ]
  },
  {
   "cell_type": "code",
   "execution_count": 4,
   "id": "a072c79a62d2a1dd",
   "metadata": {
    "ExecuteTime": {
     "end_time": "2025-08-06T19:23:00.829685Z",
     "start_time": "2025-08-06T19:23:00.822504Z"
    }
   },
   "outputs": [
    {
     "data": {
      "application/vnd.microsoft.datawrangler.viewer.v0+json": {
       "columns": [
        {
         "name": "index",
         "rawType": "object",
         "type": "string"
        },
        {
         "name": "0",
         "rawType": "int64",
         "type": "integer"
        }
       ],
       "ref": "4d4a80a9-c64a-42f2-be1d-f223a30b0e80",
       "rows": [
        [
         "Name",
         "0"
        ],
        [
         "Age",
         "3"
        ],
        [
         "Salary",
         "1"
        ]
       ],
       "shape": {
        "columns": 1,
        "rows": 3
       }
      },
      "text/plain": [
       "Name      0\n",
       "Age       3\n",
       "Salary    1\n",
       "dtype: int64"
      ]
     },
     "execution_count": 4,
     "metadata": {},
     "output_type": "execute_result"
    }
   ],
   "source": [
    "df.isnull().sum()"
   ]
  },
  {
   "cell_type": "code",
   "execution_count": 5,
   "id": "12d4b484c27a77ee",
   "metadata": {
    "ExecuteTime": {
     "end_time": "2025-08-06T19:22:14.837404Z",
     "start_time": "2025-08-06T19:22:14.829071Z"
    }
   },
   "outputs": [
    {
     "data": {
      "application/vnd.microsoft.datawrangler.viewer.v0+json": {
       "columns": [
        {
         "name": "index",
         "rawType": "object",
         "type": "string"
        },
        {
         "name": "0",
         "rawType": "float64",
         "type": "float"
        }
       ],
       "ref": "8a4de12d-1113-4023-b794-4d64d8cf403a",
       "rows": [
        [
         "Name",
         "0.0"
        ],
        [
         "Age",
         "60.0"
        ],
        [
         "Salary",
         "20.0"
        ]
       ],
       "shape": {
        "columns": 1,
        "rows": 3
       }
      },
      "text/plain": [
       "Name       0.0\n",
       "Age       60.0\n",
       "Salary    20.0\n",
       "dtype: float64"
      ]
     },
     "execution_count": 5,
     "metadata": {},
     "output_type": "execute_result"
    }
   ],
   "source": [
    "df.isnull().mean() *100"
   ]
  },
  {
   "cell_type": "markdown",
   "id": "6bf8535eb07d46ec",
   "metadata": {},
   "source": [
    "### FILL MEAN VALUE IN MISSING PLACE"
   ]
  },
  {
   "cell_type": "code",
   "execution_count": 6,
   "id": "822204b1d2013f02",
   "metadata": {
    "ExecuteTime": {
     "end_time": "2025-08-06T19:17:39.422352Z",
     "start_time": "2025-08-06T19:17:39.409791Z"
    }
   },
   "outputs": [],
   "source": [
    "# df[\"Age\"].fillna(df['Age'].mean(), inplace=True)\n",
    "# df['Salary'].fillna(df['Salary'].mean(), inplace=True)\n",
    "df.fillna({'Age':df['Age'].mean()}, inplace=True)\n",
    "df.fillna({'Salary':df['Salary'].mean()}, inplace=True)"
   ]
  },
  {
   "cell_type": "code",
   "execution_count": 7,
   "id": "ae488d71",
   "metadata": {},
   "outputs": [
    {
     "data": {
      "application/vnd.microsoft.datawrangler.viewer.v0+json": {
       "columns": [
        {
         "name": "index",
         "rawType": "int64",
         "type": "integer"
        },
        {
         "name": "Name",
         "rawType": "object",
         "type": "string"
        },
        {
         "name": "Age",
         "rawType": "float64",
         "type": "float"
        },
        {
         "name": "Salary",
         "rawType": "float64",
         "type": "float"
        }
       ],
       "ref": "88e81c45-fde0-4f38-b924-e6d27092d785",
       "rows": [
        [
         "0",
         "Chandrahsh",
         "23.5",
         "150000.0"
        ],
        [
         "1",
         "Kal",
         "23.5",
         "120000.0"
        ],
        [
         "2",
         "Jone",
         "22.0",
         "162500.0"
        ],
        [
         "3",
         "Anna",
         "23.5",
         "130000.0"
        ],
        [
         "4",
         "Ng",
         "25.0",
         "250000.0"
        ]
       ],
       "shape": {
        "columns": 3,
        "rows": 5
       }
      },
      "text/html": [
       "<div>\n",
       "<style scoped>\n",
       "    .dataframe tbody tr th:only-of-type {\n",
       "        vertical-align: middle;\n",
       "    }\n",
       "\n",
       "    .dataframe tbody tr th {\n",
       "        vertical-align: top;\n",
       "    }\n",
       "\n",
       "    .dataframe thead th {\n",
       "        text-align: right;\n",
       "    }\n",
       "</style>\n",
       "<table border=\"1\" class=\"dataframe\">\n",
       "  <thead>\n",
       "    <tr style=\"text-align: right;\">\n",
       "      <th></th>\n",
       "      <th>Name</th>\n",
       "      <th>Age</th>\n",
       "      <th>Salary</th>\n",
       "    </tr>\n",
       "  </thead>\n",
       "  <tbody>\n",
       "    <tr>\n",
       "      <th>0</th>\n",
       "      <td>Chandrahsh</td>\n",
       "      <td>23.5</td>\n",
       "      <td>150000.0</td>\n",
       "    </tr>\n",
       "    <tr>\n",
       "      <th>1</th>\n",
       "      <td>Kal</td>\n",
       "      <td>23.5</td>\n",
       "      <td>120000.0</td>\n",
       "    </tr>\n",
       "    <tr>\n",
       "      <th>2</th>\n",
       "      <td>Jone</td>\n",
       "      <td>22.0</td>\n",
       "      <td>162500.0</td>\n",
       "    </tr>\n",
       "    <tr>\n",
       "      <th>3</th>\n",
       "      <td>Anna</td>\n",
       "      <td>23.5</td>\n",
       "      <td>130000.0</td>\n",
       "    </tr>\n",
       "    <tr>\n",
       "      <th>4</th>\n",
       "      <td>Ng</td>\n",
       "      <td>25.0</td>\n",
       "      <td>250000.0</td>\n",
       "    </tr>\n",
       "  </tbody>\n",
       "</table>\n",
       "</div>"
      ],
      "text/plain": [
       "         Name   Age    Salary\n",
       "0  Chandrahsh  23.5  150000.0\n",
       "1         Kal  23.5  120000.0\n",
       "2        Jone  22.0  162500.0\n",
       "3        Anna  23.5  130000.0\n",
       "4          Ng  25.0  250000.0"
      ]
     },
     "execution_count": 7,
     "metadata": {},
     "output_type": "execute_result"
    }
   ],
   "source": [
    "df.head()"
   ]
  },
  {
   "cell_type": "markdown",
   "id": "3e0913decfbf365c",
   "metadata": {},
   "source": [
    "# drop NaN ROW"
   ]
  },
  {
   "cell_type": "code",
   "execution_count": 8,
   "id": "63f02dd3240397ba",
   "metadata": {
    "ExecuteTime": {
     "end_time": "2025-08-06T19:08:54.750924Z",
     "start_time": "2025-08-06T19:08:54.741736Z"
    }
   },
   "outputs": [
    {
     "data": {
      "application/vnd.microsoft.datawrangler.viewer.v0+json": {
       "columns": [
        {
         "name": "index",
         "rawType": "int64",
         "type": "integer"
        },
        {
         "name": "Name",
         "rawType": "object",
         "type": "string"
        },
        {
         "name": "Age",
         "rawType": "float64",
         "type": "float"
        },
        {
         "name": "Salary",
         "rawType": "float64",
         "type": "float"
        }
       ],
       "ref": "556359e9-8509-4ead-8ab0-500603693717",
       "rows": [
        [
         "0",
         "Chandrahsh",
         "23.5",
         "150000.0"
        ],
        [
         "1",
         "Kal",
         "23.5",
         "120000.0"
        ],
        [
         "2",
         "Jone",
         "22.0",
         "162500.0"
        ],
        [
         "3",
         "Anna",
         "23.5",
         "130000.0"
        ],
        [
         "4",
         "Ng",
         "25.0",
         "250000.0"
        ]
       ],
       "shape": {
        "columns": 3,
        "rows": 5
       }
      },
      "text/html": [
       "<div>\n",
       "<style scoped>\n",
       "    .dataframe tbody tr th:only-of-type {\n",
       "        vertical-align: middle;\n",
       "    }\n",
       "\n",
       "    .dataframe tbody tr th {\n",
       "        vertical-align: top;\n",
       "    }\n",
       "\n",
       "    .dataframe thead th {\n",
       "        text-align: right;\n",
       "    }\n",
       "</style>\n",
       "<table border=\"1\" class=\"dataframe\">\n",
       "  <thead>\n",
       "    <tr style=\"text-align: right;\">\n",
       "      <th></th>\n",
       "      <th>Name</th>\n",
       "      <th>Age</th>\n",
       "      <th>Salary</th>\n",
       "    </tr>\n",
       "  </thead>\n",
       "  <tbody>\n",
       "    <tr>\n",
       "      <th>0</th>\n",
       "      <td>Chandrahsh</td>\n",
       "      <td>23.5</td>\n",
       "      <td>150000.0</td>\n",
       "    </tr>\n",
       "    <tr>\n",
       "      <th>1</th>\n",
       "      <td>Kal</td>\n",
       "      <td>23.5</td>\n",
       "      <td>120000.0</td>\n",
       "    </tr>\n",
       "    <tr>\n",
       "      <th>2</th>\n",
       "      <td>Jone</td>\n",
       "      <td>22.0</td>\n",
       "      <td>162500.0</td>\n",
       "    </tr>\n",
       "    <tr>\n",
       "      <th>3</th>\n",
       "      <td>Anna</td>\n",
       "      <td>23.5</td>\n",
       "      <td>130000.0</td>\n",
       "    </tr>\n",
       "    <tr>\n",
       "      <th>4</th>\n",
       "      <td>Ng</td>\n",
       "      <td>25.0</td>\n",
       "      <td>250000.0</td>\n",
       "    </tr>\n",
       "  </tbody>\n",
       "</table>\n",
       "</div>"
      ],
      "text/plain": [
       "         Name   Age    Salary\n",
       "0  Chandrahsh  23.5  150000.0\n",
       "1         Kal  23.5  120000.0\n",
       "2        Jone  22.0  162500.0\n",
       "3        Anna  23.5  130000.0\n",
       "4          Ng  25.0  250000.0"
      ]
     },
     "execution_count": 8,
     "metadata": {},
     "output_type": "execute_result"
    }
   ],
   "source": [
    "df.dropna()"
   ]
  },
  {
   "cell_type": "code",
   "execution_count": 11,
   "id": "16a90316",
   "metadata": {},
   "outputs": [
    {
     "data": {
      "application/vnd.microsoft.datawrangler.viewer.v0+json": {
       "columns": [
        {
         "name": "index",
         "rawType": "int64",
         "type": "integer"
        },
        {
         "name": "name",
         "rawType": "object",
         "type": "string"
        },
        {
         "name": "year",
         "rawType": "int64",
         "type": "integer"
        },
        {
         "name": "selling_price",
         "rawType": "int64",
         "type": "integer"
        },
        {
         "name": "km_driven",
         "rawType": "int64",
         "type": "integer"
        },
        {
         "name": "fuel",
         "rawType": "object",
         "type": "string"
        },
        {
         "name": "seller_type",
         "rawType": "object",
         "type": "string"
        },
        {
         "name": "transmission",
         "rawType": "object",
         "type": "string"
        },
        {
         "name": "owner",
         "rawType": "object",
         "type": "string"
        }
       ],
       "ref": "0cecabd0-0ca3-4d4e-8231-edc16e2d722c",
       "rows": [
        [
         "0",
         "Maruti 800 AC",
         "2007",
         "60000",
         "70000",
         "Petrol",
         "Individual",
         "Manual",
         "First Owner"
        ],
        [
         "1",
         "Maruti Wagon R LXI Minor",
         "2007",
         "135000",
         "50000",
         "Petrol",
         "Individual",
         "Manual",
         "First Owner"
        ],
        [
         "2",
         "Hyundai Verna 1.6 SX",
         "2012",
         "600000",
         "100000",
         "Diesel",
         "Individual",
         "Manual",
         "First Owner"
        ],
        [
         "3",
         "Datsun RediGO T Option",
         "2017",
         "250000",
         "46000",
         "Petrol",
         "Individual",
         "Manual",
         "First Owner"
        ],
        [
         "4",
         "Honda Amaze VX i-DTEC",
         "2014",
         "450000",
         "141000",
         "Diesel",
         "Individual",
         "Manual",
         "Second Owner"
        ]
       ],
       "shape": {
        "columns": 8,
        "rows": 5
       }
      },
      "text/html": [
       "<div>\n",
       "<style scoped>\n",
       "    .dataframe tbody tr th:only-of-type {\n",
       "        vertical-align: middle;\n",
       "    }\n",
       "\n",
       "    .dataframe tbody tr th {\n",
       "        vertical-align: top;\n",
       "    }\n",
       "\n",
       "    .dataframe thead th {\n",
       "        text-align: right;\n",
       "    }\n",
       "</style>\n",
       "<table border=\"1\" class=\"dataframe\">\n",
       "  <thead>\n",
       "    <tr style=\"text-align: right;\">\n",
       "      <th></th>\n",
       "      <th>name</th>\n",
       "      <th>year</th>\n",
       "      <th>selling_price</th>\n",
       "      <th>km_driven</th>\n",
       "      <th>fuel</th>\n",
       "      <th>seller_type</th>\n",
       "      <th>transmission</th>\n",
       "      <th>owner</th>\n",
       "    </tr>\n",
       "  </thead>\n",
       "  <tbody>\n",
       "    <tr>\n",
       "      <th>0</th>\n",
       "      <td>Maruti 800 AC</td>\n",
       "      <td>2007</td>\n",
       "      <td>60000</td>\n",
       "      <td>70000</td>\n",
       "      <td>Petrol</td>\n",
       "      <td>Individual</td>\n",
       "      <td>Manual</td>\n",
       "      <td>First Owner</td>\n",
       "    </tr>\n",
       "    <tr>\n",
       "      <th>1</th>\n",
       "      <td>Maruti Wagon R LXI Minor</td>\n",
       "      <td>2007</td>\n",
       "      <td>135000</td>\n",
       "      <td>50000</td>\n",
       "      <td>Petrol</td>\n",
       "      <td>Individual</td>\n",
       "      <td>Manual</td>\n",
       "      <td>First Owner</td>\n",
       "    </tr>\n",
       "    <tr>\n",
       "      <th>2</th>\n",
       "      <td>Hyundai Verna 1.6 SX</td>\n",
       "      <td>2012</td>\n",
       "      <td>600000</td>\n",
       "      <td>100000</td>\n",
       "      <td>Diesel</td>\n",
       "      <td>Individual</td>\n",
       "      <td>Manual</td>\n",
       "      <td>First Owner</td>\n",
       "    </tr>\n",
       "    <tr>\n",
       "      <th>3</th>\n",
       "      <td>Datsun RediGO T Option</td>\n",
       "      <td>2017</td>\n",
       "      <td>250000</td>\n",
       "      <td>46000</td>\n",
       "      <td>Petrol</td>\n",
       "      <td>Individual</td>\n",
       "      <td>Manual</td>\n",
       "      <td>First Owner</td>\n",
       "    </tr>\n",
       "    <tr>\n",
       "      <th>4</th>\n",
       "      <td>Honda Amaze VX i-DTEC</td>\n",
       "      <td>2014</td>\n",
       "      <td>450000</td>\n",
       "      <td>141000</td>\n",
       "      <td>Diesel</td>\n",
       "      <td>Individual</td>\n",
       "      <td>Manual</td>\n",
       "      <td>Second Owner</td>\n",
       "    </tr>\n",
       "  </tbody>\n",
       "</table>\n",
       "</div>"
      ],
      "text/plain": [
       "                       name  year  selling_price  km_driven    fuel  \\\n",
       "0             Maruti 800 AC  2007          60000      70000  Petrol   \n",
       "1  Maruti Wagon R LXI Minor  2007         135000      50000  Petrol   \n",
       "2      Hyundai Verna 1.6 SX  2012         600000     100000  Diesel   \n",
       "3    Datsun RediGO T Option  2017         250000      46000  Petrol   \n",
       "4     Honda Amaze VX i-DTEC  2014         450000     141000  Diesel   \n",
       "\n",
       "  seller_type transmission         owner  \n",
       "0  Individual       Manual   First Owner  \n",
       "1  Individual       Manual   First Owner  \n",
       "2  Individual       Manual   First Owner  \n",
       "3  Individual       Manual   First Owner  \n",
       "4  Individual       Manual  Second Owner  "
      ]
     },
     "execution_count": 11,
     "metadata": {},
     "output_type": "execute_result"
    }
   ],
   "source": [
    "df1 = pd.read_csv(\"CAR_DETAILS_FROM_CAR_DEKHO.csv\")\n",
    "df1.head()"
   ]
  },
  {
   "cell_type": "markdown",
   "id": "8f957c8f",
   "metadata": {},
   "source": [
    "# Encoding"
   ]
  },
  {
   "cell_type": "markdown",
   "id": "30bbd0e9",
   "metadata": {},
   "source": [
    "### Label Encoded Data (work on two unique values)"
   ]
  },
  {
   "cell_type": "code",
   "execution_count": null,
   "id": "6ae635af",
   "metadata": {},
   "outputs": [
    {
     "data": {
      "application/vnd.microsoft.datawrangler.viewer.v0+json": {
       "columns": [
        {
         "name": "index",
         "rawType": "int64",
         "type": "integer"
        },
        {
         "name": "transmission",
         "rawType": "object",
         "type": "string"
        },
        {
         "name": "Transmission_Encoded",
         "rawType": "int64",
         "type": "integer"
        }
       ],
       "ref": "c9c7ca71-3b55-413a-87ab-42a83e5c7d50",
       "rows": [
        [
         "0",
         "Manual",
         "1"
        ],
        [
         "1",
         "Manual",
         "1"
        ],
        [
         "2",
         "Manual",
         "1"
        ],
        [
         "3",
         "Manual",
         "1"
        ],
        [
         "4",
         "Manual",
         "1"
        ],
        [
         "5",
         "Manual",
         "1"
        ],
        [
         "6",
         "Manual",
         "1"
        ],
        [
         "7",
         "Manual",
         "1"
        ],
        [
         "8",
         "Manual",
         "1"
        ],
        [
         "9",
         "Manual",
         "1"
        ],
        [
         "10",
         "Manual",
         "1"
        ],
        [
         "11",
         "Manual",
         "1"
        ],
        [
         "12",
         "Automatic",
         "0"
        ],
        [
         "13",
         "Manual",
         "1"
        ],
        [
         "14",
         "Manual",
         "1"
        ],
        [
         "15",
         "Manual",
         "1"
        ],
        [
         "16",
         "Manual",
         "1"
        ],
        [
         "17",
         "Manual",
         "1"
        ],
        [
         "18",
         "Manual",
         "1"
        ],
        [
         "19",
         "Manual",
         "1"
        ]
       ],
       "shape": {
        "columns": 2,
        "rows": 20
       }
      },
      "text/html": [
       "<div>\n",
       "<style scoped>\n",
       "    .dataframe tbody tr th:only-of-type {\n",
       "        vertical-align: middle;\n",
       "    }\n",
       "\n",
       "    .dataframe tbody tr th {\n",
       "        vertical-align: top;\n",
       "    }\n",
       "\n",
       "    .dataframe thead th {\n",
       "        text-align: right;\n",
       "    }\n",
       "</style>\n",
       "<table border=\"1\" class=\"dataframe\">\n",
       "  <thead>\n",
       "    <tr style=\"text-align: right;\">\n",
       "      <th></th>\n",
       "      <th>transmission</th>\n",
       "      <th>Transmission_Encoded</th>\n",
       "    </tr>\n",
       "  </thead>\n",
       "  <tbody>\n",
       "    <tr>\n",
       "      <th>0</th>\n",
       "      <td>Manual</td>\n",
       "      <td>1</td>\n",
       "    </tr>\n",
       "    <tr>\n",
       "      <th>1</th>\n",
       "      <td>Manual</td>\n",
       "      <td>1</td>\n",
       "    </tr>\n",
       "    <tr>\n",
       "      <th>2</th>\n",
       "      <td>Manual</td>\n",
       "      <td>1</td>\n",
       "    </tr>\n",
       "    <tr>\n",
       "      <th>3</th>\n",
       "      <td>Manual</td>\n",
       "      <td>1</td>\n",
       "    </tr>\n",
       "    <tr>\n",
       "      <th>4</th>\n",
       "      <td>Manual</td>\n",
       "      <td>1</td>\n",
       "    </tr>\n",
       "    <tr>\n",
       "      <th>5</th>\n",
       "      <td>Manual</td>\n",
       "      <td>1</td>\n",
       "    </tr>\n",
       "    <tr>\n",
       "      <th>6</th>\n",
       "      <td>Manual</td>\n",
       "      <td>1</td>\n",
       "    </tr>\n",
       "    <tr>\n",
       "      <th>7</th>\n",
       "      <td>Manual</td>\n",
       "      <td>1</td>\n",
       "    </tr>\n",
       "    <tr>\n",
       "      <th>8</th>\n",
       "      <td>Manual</td>\n",
       "      <td>1</td>\n",
       "    </tr>\n",
       "    <tr>\n",
       "      <th>9</th>\n",
       "      <td>Manual</td>\n",
       "      <td>1</td>\n",
       "    </tr>\n",
       "    <tr>\n",
       "      <th>10</th>\n",
       "      <td>Manual</td>\n",
       "      <td>1</td>\n",
       "    </tr>\n",
       "    <tr>\n",
       "      <th>11</th>\n",
       "      <td>Manual</td>\n",
       "      <td>1</td>\n",
       "    </tr>\n",
       "    <tr>\n",
       "      <th>12</th>\n",
       "      <td>Automatic</td>\n",
       "      <td>0</td>\n",
       "    </tr>\n",
       "    <tr>\n",
       "      <th>13</th>\n",
       "      <td>Manual</td>\n",
       "      <td>1</td>\n",
       "    </tr>\n",
       "    <tr>\n",
       "      <th>14</th>\n",
       "      <td>Manual</td>\n",
       "      <td>1</td>\n",
       "    </tr>\n",
       "    <tr>\n",
       "      <th>15</th>\n",
       "      <td>Manual</td>\n",
       "      <td>1</td>\n",
       "    </tr>\n",
       "    <tr>\n",
       "      <th>16</th>\n",
       "      <td>Manual</td>\n",
       "      <td>1</td>\n",
       "    </tr>\n",
       "    <tr>\n",
       "      <th>17</th>\n",
       "      <td>Manual</td>\n",
       "      <td>1</td>\n",
       "    </tr>\n",
       "    <tr>\n",
       "      <th>18</th>\n",
       "      <td>Manual</td>\n",
       "      <td>1</td>\n",
       "    </tr>\n",
       "    <tr>\n",
       "      <th>19</th>\n",
       "      <td>Manual</td>\n",
       "      <td>1</td>\n",
       "    </tr>\n",
       "  </tbody>\n",
       "</table>\n",
       "</div>"
      ],
      "text/plain": [
       "   transmission  Transmission_Encoded\n",
       "0        Manual                     1\n",
       "1        Manual                     1\n",
       "2        Manual                     1\n",
       "3        Manual                     1\n",
       "4        Manual                     1\n",
       "5        Manual                     1\n",
       "6        Manual                     1\n",
       "7        Manual                     1\n",
       "8        Manual                     1\n",
       "9        Manual                     1\n",
       "10       Manual                     1\n",
       "11       Manual                     1\n",
       "12    Automatic                     0\n",
       "13       Manual                     1\n",
       "14       Manual                     1\n",
       "15       Manual                     1\n",
       "16       Manual                     1\n",
       "17       Manual                     1\n",
       "18       Manual                     1\n",
       "19       Manual                     1"
      ]
     },
     "execution_count": 15,
     "metadata": {},
     "output_type": "execute_result"
    }
   ],
   "source": [
    "df_label = df1.copy()\n",
    "le = LabelEncoder()\n",
    "\n",
    "df_label['Transmission_Encoded'] = le.fit_transform(df_label['transmission'])\n",
    "\n",
    "df_label[['transmission','Transmission_Encoded']].head(20)\n"
   ]
  },
  {
   "cell_type": "markdown",
   "id": "f1abb861",
   "metadata": {},
   "source": [
    "### One-Hot Encoded(work on multiple values)"
   ]
  },
  {
   "cell_type": "code",
   "execution_count": 17,
   "id": "8e49c6bd",
   "metadata": {},
   "outputs": [
    {
     "data": {
      "application/vnd.microsoft.datawrangler.viewer.v0+json": {
       "columns": [
        {
         "name": "index",
         "rawType": "int64",
         "type": "integer"
        },
        {
         "name": "name",
         "rawType": "object",
         "type": "string"
        },
        {
         "name": "year",
         "rawType": "int64",
         "type": "integer"
        },
        {
         "name": "selling_price",
         "rawType": "int64",
         "type": "integer"
        },
        {
         "name": "km_driven",
         "rawType": "int64",
         "type": "integer"
        },
        {
         "name": "seller_type",
         "rawType": "object",
         "type": "string"
        },
        {
         "name": "transmission",
         "rawType": "object",
         "type": "string"
        },
        {
         "name": "owner",
         "rawType": "object",
         "type": "string"
        },
        {
         "name": "Transmission_Encoded",
         "rawType": "int64",
         "type": "integer"
        },
        {
         "name": "fuel_CNG",
         "rawType": "bool",
         "type": "boolean"
        },
        {
         "name": "fuel_Diesel",
         "rawType": "bool",
         "type": "boolean"
        },
        {
         "name": "fuel_Electric",
         "rawType": "bool",
         "type": "boolean"
        },
        {
         "name": "fuel_LPG",
         "rawType": "bool",
         "type": "boolean"
        },
        {
         "name": "fuel_Petrol",
         "rawType": "bool",
         "type": "boolean"
        }
       ],
       "ref": "a199b801-0e7a-4be1-898d-935bf4f72d10",
       "rows": [
        [
         "0",
         "Maruti 800 AC",
         "2007",
         "60000",
         "70000",
         "Individual",
         "Manual",
         "First Owner",
         "1",
         "False",
         "False",
         "False",
         "False",
         "True"
        ],
        [
         "1",
         "Maruti Wagon R LXI Minor",
         "2007",
         "135000",
         "50000",
         "Individual",
         "Manual",
         "First Owner",
         "1",
         "False",
         "False",
         "False",
         "False",
         "True"
        ],
        [
         "2",
         "Hyundai Verna 1.6 SX",
         "2012",
         "600000",
         "100000",
         "Individual",
         "Manual",
         "First Owner",
         "1",
         "False",
         "True",
         "False",
         "False",
         "False"
        ],
        [
         "3",
         "Datsun RediGO T Option",
         "2017",
         "250000",
         "46000",
         "Individual",
         "Manual",
         "First Owner",
         "1",
         "False",
         "False",
         "False",
         "False",
         "True"
        ],
        [
         "4",
         "Honda Amaze VX i-DTEC",
         "2014",
         "450000",
         "141000",
         "Individual",
         "Manual",
         "Second Owner",
         "1",
         "False",
         "True",
         "False",
         "False",
         "False"
        ]
       ],
       "shape": {
        "columns": 13,
        "rows": 5
       }
      },
      "text/html": [
       "<div>\n",
       "<style scoped>\n",
       "    .dataframe tbody tr th:only-of-type {\n",
       "        vertical-align: middle;\n",
       "    }\n",
       "\n",
       "    .dataframe tbody tr th {\n",
       "        vertical-align: top;\n",
       "    }\n",
       "\n",
       "    .dataframe thead th {\n",
       "        text-align: right;\n",
       "    }\n",
       "</style>\n",
       "<table border=\"1\" class=\"dataframe\">\n",
       "  <thead>\n",
       "    <tr style=\"text-align: right;\">\n",
       "      <th></th>\n",
       "      <th>name</th>\n",
       "      <th>year</th>\n",
       "      <th>selling_price</th>\n",
       "      <th>km_driven</th>\n",
       "      <th>seller_type</th>\n",
       "      <th>transmission</th>\n",
       "      <th>owner</th>\n",
       "      <th>Transmission_Encoded</th>\n",
       "      <th>fuel_CNG</th>\n",
       "      <th>fuel_Diesel</th>\n",
       "      <th>fuel_Electric</th>\n",
       "      <th>fuel_LPG</th>\n",
       "      <th>fuel_Petrol</th>\n",
       "    </tr>\n",
       "  </thead>\n",
       "  <tbody>\n",
       "    <tr>\n",
       "      <th>0</th>\n",
       "      <td>Maruti 800 AC</td>\n",
       "      <td>2007</td>\n",
       "      <td>60000</td>\n",
       "      <td>70000</td>\n",
       "      <td>Individual</td>\n",
       "      <td>Manual</td>\n",
       "      <td>First Owner</td>\n",
       "      <td>1</td>\n",
       "      <td>False</td>\n",
       "      <td>False</td>\n",
       "      <td>False</td>\n",
       "      <td>False</td>\n",
       "      <td>True</td>\n",
       "    </tr>\n",
       "    <tr>\n",
       "      <th>1</th>\n",
       "      <td>Maruti Wagon R LXI Minor</td>\n",
       "      <td>2007</td>\n",
       "      <td>135000</td>\n",
       "      <td>50000</td>\n",
       "      <td>Individual</td>\n",
       "      <td>Manual</td>\n",
       "      <td>First Owner</td>\n",
       "      <td>1</td>\n",
       "      <td>False</td>\n",
       "      <td>False</td>\n",
       "      <td>False</td>\n",
       "      <td>False</td>\n",
       "      <td>True</td>\n",
       "    </tr>\n",
       "    <tr>\n",
       "      <th>2</th>\n",
       "      <td>Hyundai Verna 1.6 SX</td>\n",
       "      <td>2012</td>\n",
       "      <td>600000</td>\n",
       "      <td>100000</td>\n",
       "      <td>Individual</td>\n",
       "      <td>Manual</td>\n",
       "      <td>First Owner</td>\n",
       "      <td>1</td>\n",
       "      <td>False</td>\n",
       "      <td>True</td>\n",
       "      <td>False</td>\n",
       "      <td>False</td>\n",
       "      <td>False</td>\n",
       "    </tr>\n",
       "    <tr>\n",
       "      <th>3</th>\n",
       "      <td>Datsun RediGO T Option</td>\n",
       "      <td>2017</td>\n",
       "      <td>250000</td>\n",
       "      <td>46000</td>\n",
       "      <td>Individual</td>\n",
       "      <td>Manual</td>\n",
       "      <td>First Owner</td>\n",
       "      <td>1</td>\n",
       "      <td>False</td>\n",
       "      <td>False</td>\n",
       "      <td>False</td>\n",
       "      <td>False</td>\n",
       "      <td>True</td>\n",
       "    </tr>\n",
       "    <tr>\n",
       "      <th>4</th>\n",
       "      <td>Honda Amaze VX i-DTEC</td>\n",
       "      <td>2014</td>\n",
       "      <td>450000</td>\n",
       "      <td>141000</td>\n",
       "      <td>Individual</td>\n",
       "      <td>Manual</td>\n",
       "      <td>Second Owner</td>\n",
       "      <td>1</td>\n",
       "      <td>False</td>\n",
       "      <td>True</td>\n",
       "      <td>False</td>\n",
       "      <td>False</td>\n",
       "      <td>False</td>\n",
       "    </tr>\n",
       "  </tbody>\n",
       "</table>\n",
       "</div>"
      ],
      "text/plain": [
       "                       name  year  selling_price  km_driven seller_type  \\\n",
       "0             Maruti 800 AC  2007          60000      70000  Individual   \n",
       "1  Maruti Wagon R LXI Minor  2007         135000      50000  Individual   \n",
       "2      Hyundai Verna 1.6 SX  2012         600000     100000  Individual   \n",
       "3    Datsun RediGO T Option  2017         250000      46000  Individual   \n",
       "4     Honda Amaze VX i-DTEC  2014         450000     141000  Individual   \n",
       "\n",
       "  transmission         owner  Transmission_Encoded  fuel_CNG  fuel_Diesel  \\\n",
       "0       Manual   First Owner                     1     False        False   \n",
       "1       Manual   First Owner                     1     False        False   \n",
       "2       Manual   First Owner                     1     False         True   \n",
       "3       Manual   First Owner                     1     False        False   \n",
       "4       Manual  Second Owner                     1     False         True   \n",
       "\n",
       "   fuel_Electric  fuel_LPG  fuel_Petrol  \n",
       "0          False     False         True  \n",
       "1          False     False         True  \n",
       "2          False     False        False  \n",
       "3          False     False         True  \n",
       "4          False     False        False  "
      ]
     },
     "execution_count": 17,
     "metadata": {},
     "output_type": "execute_result"
    }
   ],
   "source": [
    "df_encoded = pd.get_dummies(df_label, columns=['fuel'])\n",
    "df_encoded.head()"
   ]
  },
  {
   "cell_type": "code",
   "execution_count": 22,
   "id": "beae3a3a",
   "metadata": {},
   "outputs": [
    {
     "data": {
      "application/vnd.microsoft.datawrangler.viewer.v0+json": {
       "columns": [
        {
         "name": "index",
         "rawType": "int64",
         "type": "integer"
        },
        {
         "name": "name",
         "rawType": "object",
         "type": "string"
        },
        {
         "name": "year",
         "rawType": "int64",
         "type": "integer"
        },
        {
         "name": "selling_price",
         "rawType": "int64",
         "type": "integer"
        },
        {
         "name": "km_driven",
         "rawType": "int64",
         "type": "integer"
        },
        {
         "name": "seller_type",
         "rawType": "object",
         "type": "string"
        },
        {
         "name": "transmission",
         "rawType": "object",
         "type": "string"
        },
        {
         "name": "owner",
         "rawType": "object",
         "type": "string"
        },
        {
         "name": "Transmission_Encoded",
         "rawType": "int64",
         "type": "integer"
        },
        {
         "name": "fuel_CNG",
         "rawType": "int64",
         "type": "integer"
        },
        {
         "name": "fuel_Diesel",
         "rawType": "int64",
         "type": "integer"
        },
        {
         "name": "fuel_Electric",
         "rawType": "int64",
         "type": "integer"
        },
        {
         "name": "fuel_LPG",
         "rawType": "int64",
         "type": "integer"
        },
        {
         "name": "fuel_Petrol",
         "rawType": "int64",
         "type": "integer"
        }
       ],
       "ref": "195f883e-a169-4e96-895b-807923167706",
       "rows": [
        [
         "0",
         "Maruti 800 AC",
         "2007",
         "60000",
         "70000",
         "Individual",
         "Manual",
         "First Owner",
         "1",
         "0",
         "0",
         "0",
         "0",
         "1"
        ],
        [
         "1",
         "Maruti Wagon R LXI Minor",
         "2007",
         "135000",
         "50000",
         "Individual",
         "Manual",
         "First Owner",
         "1",
         "0",
         "0",
         "0",
         "0",
         "1"
        ],
        [
         "2",
         "Hyundai Verna 1.6 SX",
         "2012",
         "600000",
         "100000",
         "Individual",
         "Manual",
         "First Owner",
         "1",
         "0",
         "1",
         "0",
         "0",
         "0"
        ],
        [
         "3",
         "Datsun RediGO T Option",
         "2017",
         "250000",
         "46000",
         "Individual",
         "Manual",
         "First Owner",
         "1",
         "0",
         "0",
         "0",
         "0",
         "1"
        ],
        [
         "4",
         "Honda Amaze VX i-DTEC",
         "2014",
         "450000",
         "141000",
         "Individual",
         "Manual",
         "Second Owner",
         "1",
         "0",
         "1",
         "0",
         "0",
         "0"
        ]
       ],
       "shape": {
        "columns": 13,
        "rows": 5
       }
      },
      "text/html": [
       "<div>\n",
       "<style scoped>\n",
       "    .dataframe tbody tr th:only-of-type {\n",
       "        vertical-align: middle;\n",
       "    }\n",
       "\n",
       "    .dataframe tbody tr th {\n",
       "        vertical-align: top;\n",
       "    }\n",
       "\n",
       "    .dataframe thead th {\n",
       "        text-align: right;\n",
       "    }\n",
       "</style>\n",
       "<table border=\"1\" class=\"dataframe\">\n",
       "  <thead>\n",
       "    <tr style=\"text-align: right;\">\n",
       "      <th></th>\n",
       "      <th>name</th>\n",
       "      <th>year</th>\n",
       "      <th>selling_price</th>\n",
       "      <th>km_driven</th>\n",
       "      <th>seller_type</th>\n",
       "      <th>transmission</th>\n",
       "      <th>owner</th>\n",
       "      <th>Transmission_Encoded</th>\n",
       "      <th>fuel_CNG</th>\n",
       "      <th>fuel_Diesel</th>\n",
       "      <th>fuel_Electric</th>\n",
       "      <th>fuel_LPG</th>\n",
       "      <th>fuel_Petrol</th>\n",
       "    </tr>\n",
       "  </thead>\n",
       "  <tbody>\n",
       "    <tr>\n",
       "      <th>0</th>\n",
       "      <td>Maruti 800 AC</td>\n",
       "      <td>2007</td>\n",
       "      <td>60000</td>\n",
       "      <td>70000</td>\n",
       "      <td>Individual</td>\n",
       "      <td>Manual</td>\n",
       "      <td>First Owner</td>\n",
       "      <td>1</td>\n",
       "      <td>0</td>\n",
       "      <td>0</td>\n",
       "      <td>0</td>\n",
       "      <td>0</td>\n",
       "      <td>1</td>\n",
       "    </tr>\n",
       "    <tr>\n",
       "      <th>1</th>\n",
       "      <td>Maruti Wagon R LXI Minor</td>\n",
       "      <td>2007</td>\n",
       "      <td>135000</td>\n",
       "      <td>50000</td>\n",
       "      <td>Individual</td>\n",
       "      <td>Manual</td>\n",
       "      <td>First Owner</td>\n",
       "      <td>1</td>\n",
       "      <td>0</td>\n",
       "      <td>0</td>\n",
       "      <td>0</td>\n",
       "      <td>0</td>\n",
       "      <td>1</td>\n",
       "    </tr>\n",
       "    <tr>\n",
       "      <th>2</th>\n",
       "      <td>Hyundai Verna 1.6 SX</td>\n",
       "      <td>2012</td>\n",
       "      <td>600000</td>\n",
       "      <td>100000</td>\n",
       "      <td>Individual</td>\n",
       "      <td>Manual</td>\n",
       "      <td>First Owner</td>\n",
       "      <td>1</td>\n",
       "      <td>0</td>\n",
       "      <td>1</td>\n",
       "      <td>0</td>\n",
       "      <td>0</td>\n",
       "      <td>0</td>\n",
       "    </tr>\n",
       "    <tr>\n",
       "      <th>3</th>\n",
       "      <td>Datsun RediGO T Option</td>\n",
       "      <td>2017</td>\n",
       "      <td>250000</td>\n",
       "      <td>46000</td>\n",
       "      <td>Individual</td>\n",
       "      <td>Manual</td>\n",
       "      <td>First Owner</td>\n",
       "      <td>1</td>\n",
       "      <td>0</td>\n",
       "      <td>0</td>\n",
       "      <td>0</td>\n",
       "      <td>0</td>\n",
       "      <td>1</td>\n",
       "    </tr>\n",
       "    <tr>\n",
       "      <th>4</th>\n",
       "      <td>Honda Amaze VX i-DTEC</td>\n",
       "      <td>2014</td>\n",
       "      <td>450000</td>\n",
       "      <td>141000</td>\n",
       "      <td>Individual</td>\n",
       "      <td>Manual</td>\n",
       "      <td>Second Owner</td>\n",
       "      <td>1</td>\n",
       "      <td>0</td>\n",
       "      <td>1</td>\n",
       "      <td>0</td>\n",
       "      <td>0</td>\n",
       "      <td>0</td>\n",
       "    </tr>\n",
       "  </tbody>\n",
       "</table>\n",
       "</div>"
      ],
      "text/plain": [
       "                       name  year  selling_price  km_driven seller_type  \\\n",
       "0             Maruti 800 AC  2007          60000      70000  Individual   \n",
       "1  Maruti Wagon R LXI Minor  2007         135000      50000  Individual   \n",
       "2      Hyundai Verna 1.6 SX  2012         600000     100000  Individual   \n",
       "3    Datsun RediGO T Option  2017         250000      46000  Individual   \n",
       "4     Honda Amaze VX i-DTEC  2014         450000     141000  Individual   \n",
       "\n",
       "  transmission         owner  Transmission_Encoded  fuel_CNG  fuel_Diesel  \\\n",
       "0       Manual   First Owner                     1         0            0   \n",
       "1       Manual   First Owner                     1         0            0   \n",
       "2       Manual   First Owner                     1         0            1   \n",
       "3       Manual   First Owner                     1         0            0   \n",
       "4       Manual  Second Owner                     1         0            1   \n",
       "\n",
       "   fuel_Electric  fuel_LPG  fuel_Petrol  \n",
       "0              0         0            1  \n",
       "1              0         0            1  \n",
       "2              0         0            0  \n",
       "3              0         0            1  \n",
       "4              0         0            0  "
      ]
     },
     "execution_count": 22,
     "metadata": {},
     "output_type": "execute_result"
    }
   ],
   "source": [
    "df_encoded['fuel_CNG'] = df_encoded['fuel_CNG'].astype(int)\n",
    "df_encoded['fuel_Diesel'] = df_encoded['fuel_Diesel'].astype(int)\n",
    "df_encoded['fuel_Electric'] = df_encoded['fuel_Electric'].astype(int)\n",
    "df_encoded['fuel_LPG'] = df_encoded['fuel_LPG'].astype(int)\n",
    "df_encoded['fuel_Petrol'] = df_encoded['fuel_Petrol'].astype(int)\n",
    "\n",
    "df_encoded.head()"
   ]
  },
  {
   "cell_type": "markdown",
   "id": "3b70c4bd",
   "metadata": {},
   "source": [
    "# Scaling"
   ]
  },
  {
   "cell_type": "code",
   "execution_count": null,
   "id": "80b281f2",
   "metadata": {},
   "outputs": [],
   "source": [
    "from sklearn.preprocessing import StandardScaler, MinMaxScaler\n",
    "\n",
    "scaler = StandardScaler()\n",
    "x_scaled = scaler.fit_transform\n",
    "\n",
    "scaler = MinMaxScaler()\n",
    "x_scaled = scaler.fit_transform()\n"
   ]
  },
  {
   "cell_type": "code",
   "execution_count": 28,
   "id": "e7bcdd8c",
   "metadata": {},
   "outputs": [
    {
     "name": "stdout",
     "output_type": "stream",
     "text": [
      "Standard Scaler Output\n",
      "   StudyHours  TestScore\n",
      "0   -1.414214  -1.611111\n",
      "1   -0.707107  -0.500000\n",
      "2    0.000000   0.055556\n",
      "3    0.707107   0.888889\n",
      "4    1.414214   1.166667\n",
      "MinMax Scaled Output\n",
      "   StudyHours  TestScore\n",
      "0        0.00        0.0\n",
      "1        0.25        0.4\n",
      "2        0.50        0.6\n",
      "3        0.75        0.9\n",
      "4        1.00        1.0\n",
      "Training Data\n",
      "   StudyHours\n",
      "4           5\n",
      "2           3\n",
      "0           1\n",
      "3           4\n",
      "Test Data\n",
      "   StudyHours\n",
      "1           2\n",
      "Training Data\n",
      "   TestScore\n",
      "4         90\n",
      "2         70\n",
      "0         40\n",
      "3         85\n",
      "Test Data\n",
      "   TestScore\n",
      "1         60\n"
     ]
    }
   ],
   "source": [
    "import pandas as pd\n",
    "from sklearn.preprocessing import StandardScaler, MinMaxScaler\n",
    "from sklearn.model_selection import train_test_split\n",
    "\n",
    "data = {\"StudyHours\": [1,2,3,4,5],\n",
    "        \"TestScore\": [40,60,70,85,90]}\n",
    "\n",
    "df = pd.DataFrame(data)\n",
    "\n",
    "#standardScaler\n",
    "standard_scaler = StandardScaler()\n",
    "standard_scaler = standard_scaler.fit_transform(df)\n",
    "print(\"Standard Scaler Output\")\n",
    "print(pd.DataFrame(standard_scaler, columns=['StudyHours','TestScore']))\n",
    "\n",
    "\n",
    "minmax_scaler = MinMaxScaler()\n",
    "minmax_scaled = minmax_scaler.fit_transform(df)\n",
    "\n",
    "print(\"MinMax Scaled Output\")\n",
    "print(pd.DataFrame(minmax_scaled, columns=[\"StudyHours\",\"TestScore\"]))\n",
    "\n",
    "\n",
    "x = df[[\"StudyHours\"]]\n",
    "y = df[[\"TestScore\"]]\n",
    "\n",
    "x_train, x_test, y_train, y_test = train_test_split(x,y, test_size=0.2, random_state= 42)\n",
    "\n",
    "print(\"Training Data\")\n",
    "print(x_train)\n",
    "\n",
    "print(\"Test Data\")\n",
    "print(x_test)\n",
    "\n",
    "print(\"Training Data\")\n",
    "print(y_train)\n",
    "\n",
    "print(\"Test Data\")\n",
    "print(y_test)\n",
    "\n"
   ]
  },
  {
   "cell_type": "code",
   "execution_count": 1,
   "id": "7c29dbc9",
   "metadata": {},
   "outputs": [
    {
     "name": "stdout",
     "output_type": "stream",
     "text": [
      "Hello World\n"
     ]
    }
   ],
   "source": [
    "print(\"Hello World\")"
   ]
  },
  {
   "cell_type": "code",
   "execution_count": 2,
   "id": "08e5e746-420e-45e2-84fa-0ba4bcce4d27",
   "metadata": {},
   "outputs": [
    {
     "name": "stdout",
     "output_type": "stream",
     "text": [
      "15\n"
     ]
    }
   ],
   "source": [
    "print(9+6)"
   ]
  },
  {
   "cell_type": "code",
   "execution_count": null,
   "id": "748e26ca-8ba5-4fbc-8485-46351daebc71",
   "metadata": {},
   "outputs": [],
   "source": []
  }
 ],
 "metadata": {
  "kernelspec": {
   "display_name": "Python 3 (ipykernel)",
   "language": "python",
   "name": "python3"
  },
  "language_info": {
   "codemirror_mode": {
    "name": "ipython",
    "version": 3
   },
   "file_extension": ".py",
   "mimetype": "text/x-python",
   "name": "python",
   "nbconvert_exporter": "python",
   "pygments_lexer": "ipython3",
   "version": "3.12.0"
  }
 },
 "nbformat": 4,
 "nbformat_minor": 5
}
