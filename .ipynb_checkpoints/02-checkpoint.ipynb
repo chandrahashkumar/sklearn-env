{
 "cells": [
  {
   "cell_type": "code",
   "execution_count": 1,
   "id": "initial_id",
   "metadata": {
    "ExecuteTime": {
     "end_time": "2025-08-13T15:35:40.346027Z",
     "start_time": "2025-08-13T15:35:32.700184Z"
    }
   },
   "outputs": [],
   "source": [
    "from sklearn.linear_model import LinearRegression\n",
    "import pandas as pd\n",
    "import numpy as np"
   ]
  },
  {
   "cell_type": "code",
   "execution_count": 3,
   "id": "68a61ff278e571f0",
   "metadata": {
    "ExecuteTime": {
     "end_time": "2025-08-13T15:41:06.147799Z",
     "start_time": "2025-08-13T15:40:58.127467Z"
    }
   },
   "outputs": [
    {
     "name": "stdin",
     "output_type": "stream",
     "text": [
      "Enter your study hours:  15\n"
     ]
    },
    {
     "name": "stdout",
     "output_type": "stream",
     "text": [
      "Study hour15 then marks is [204.]\n"
     ]
    }
   ],
   "source": [
    "x = [[1],[2],[3],[4],[5]]\n",
    "y = [30,40,55,65,80]\n",
    "\n",
    "model = LinearRegression()\n",
    "model.fit(x,y)\n",
    "hours = int(input(\"Enter your study hours: \"))\n",
    "predict_value = model.predict([[hours]])\n",
    "print(f\"Study hour{hours} then marks is {predict_value}\")"
   ]
  },
  {
   "cell_type": "code",
   "execution_count": 4,
   "id": "6c0f8dd2e878d665",
   "metadata": {
    "ExecuteTime": {
     "end_time": "2025-08-13T15:54:39.500206Z",
     "start_time": "2025-08-13T15:54:39.495474Z"
    }
   },
   "outputs": [],
   "source": [
    "from sklearn.linear_model import LogisticRegression"
   ]
  },
  {
   "cell_type": "code",
   "execution_count": 5,
   "id": "6bc8254384993af7",
   "metadata": {
    "ExecuteTime": {
     "end_time": "2025-08-13T16:01:26.700366Z",
     "start_time": "2025-08-13T16:01:23.208157Z"
    }
   },
   "outputs": [
    {
     "name": "stdin",
     "output_type": "stream",
     "text": [
      "Enter study hours:  20\n"
     ]
    },
    {
     "name": "stdout",
     "output_type": "stream",
     "text": [
      "Based on hours 20.0, you are likely pass\n",
      "your are 1\n"
     ]
    }
   ],
   "source": [
    "x = [[3],[4],[5],[6],[7]]\n",
    "y = [0,0,1,1,1]\n",
    "\n",
    "model = LogisticRegression()\n",
    "model.fit(x,y)\n",
    "hours = float(input(\"Enter study hours: \"))\n",
    "\n",
    "predict_result = model.predict([[hours]])[0]\n",
    "if predict_result == 1:\n",
    "    print(f\"Based on hours {hours}, you are likely pass\")\n",
    "    print(f\"your are {predict_result}\")\n",
    "\n",
    "else:\n",
    "    print(f\"Based on hours {hours}\")\n",
    "    print(f\"your are {predict_result}\")"
   ]
  },
  {
   "cell_type": "code",
   "execution_count": null,
   "id": "527ff55d5086b3be",
   "metadata": {},
   "outputs": [],
   "source": []
  }
 ],
 "metadata": {
  "kernelspec": {
   "display_name": "SKLEARN-KERNEL",
   "language": "python",
   "name": "sklearn-kernel"
  },
  "language_info": {
   "codemirror_mode": {
    "name": "ipython",
    "version": 3
   },
   "file_extension": ".py",
   "mimetype": "text/x-python",
   "name": "python",
   "nbconvert_exporter": "python",
   "pygments_lexer": "ipython3",
   "version": "3.12.0"
  }
 },
 "nbformat": 4,
 "nbformat_minor": 5
}
