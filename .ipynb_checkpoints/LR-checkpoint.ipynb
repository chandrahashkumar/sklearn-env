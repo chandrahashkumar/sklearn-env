{
 "cells": [
  {
   "cell_type": "code",
   "execution_count": 1,
   "id": "e806bcaf",
   "metadata": {},
   "outputs": [
    {
     "name": "stdin",
     "output_type": "stream",
     "text": [
      "Enter your study hours:  5\n"
     ]
    },
    {
     "name": "stdout",
     "output_type": "stream",
     "text": [
      "[72.]\n"
     ]
    }
   ],
   "source": [
    "from sklearn.linear_model import LinearRegression\n",
    "X = [[1],[2],[3],[4],[5]]\n",
    "y = [30,40,50,65,70]\n",
    "\n",
    "f_lr = LinearRegression()\n",
    "\n",
    "f_lr.fit(X,y)\n",
    "\n",
    "hours = int(input(\"Enter your study hours: \"))\n",
    "f_lr_prediction = f_lr.predict([[hours]])\n",
    "print(f_lr_prediction)"
   ]
  },
  {
   "cell_type": "code",
   "execution_count": null,
   "id": "a4a08cc6",
   "metadata": {},
   "outputs": [],
   "source": []
  }
 ],
 "metadata": {
  "kernelspec": {
   "display_name": "SKLEARN-KERNEL",
   "language": "python",
   "name": "sklearn-kernel"
  },
  "language_info": {
   "codemirror_mode": {
    "name": "ipython",
    "version": 3
   },
   "file_extension": ".py",
   "mimetype": "text/x-python",
   "name": "python",
   "nbconvert_exporter": "python",
   "pygments_lexer": "ipython3",
   "version": "3.12.0"
  }
 },
 "nbformat": 4,
 "nbformat_minor": 5
}
